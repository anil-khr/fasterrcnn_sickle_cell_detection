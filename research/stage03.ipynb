{
 "cells": [
  {
   "cell_type": "code",
   "execution_count": 1,
   "metadata": {},
   "outputs": [],
   "source": [
    "import numpy as np\n",
    "import pandas as pd\n",
    "import os\n",
    "from collections import namedtuple\n"
   ]
  },
  {
   "cell_type": "code",
   "execution_count": 2,
   "metadata": {},
   "outputs": [],
   "source": [
    "from PIL import Image, ImageDraw"
   ]
  },
  {
   "cell_type": "code",
   "execution_count": 3,
   "metadata": {},
   "outputs": [
    {
     "name": "stdout",
     "output_type": "stream",
     "text": [
      "C:\\Users\\anil\\Downloads\\faster_rcnn_od\\fasterrcnn_sickle_cell_detection\n"
     ]
    }
   ],
   "source": [
    "%cd C:\\Users\\anil\\Downloads\\faster_rcnn_od\\fasterrcnn_sickle_cell_detection"
   ]
  },
  {
   "cell_type": "code",
   "execution_count": 4,
   "metadata": {},
   "outputs": [],
   "source": [
    "import torch\n",
    "import torchvision\n",
    "from torch import Tensor\n",
    "from torchvision import transforms as T\n",
    "from torch.utils.data import DataLoader"
   ]
  },
  {
   "cell_type": "code",
   "execution_count": 5,
   "metadata": {},
   "outputs": [],
   "source": [
    "DatatransformationConfig = namedtuple(\"data_transformation\", [\n",
    "  'root_dir',\n",
    "  'local_data_file',\n",
    "  'transformed_data_file'\n",
    "])"
   ]
  },
  {
   "cell_type": "code",
   "execution_count": 6,
   "metadata": {},
   "outputs": [
    {
     "name": "stderr",
     "output_type": "stream",
     "text": [
      "c:\\Users\\anil\\anaconda3\\envs\\fasterrcnn\\lib\\site-packages\\tqdm\\auto.py:21: TqdmWarning: IProgress not found. Please update jupyter and ipywidgets. See https://ipywidgets.readthedocs.io/en/stable/user_install.html\n",
      "  from .autonotebook import tqdm as notebook_tqdm\n"
     ]
    }
   ],
   "source": [
    "from faster_rcnn_od.constants import *\n",
    "from faster_rcnn_od.utils.comman import read_yaml, create_directories, custom_collate, CustDat\n",
    "from tqdm.auto import tqdm"
   ]
  },
  {
   "cell_type": "code",
   "execution_count": 7,
   "metadata": {},
   "outputs": [],
   "source": [
    "class ConfigurationManager:\n",
    "    def __init__(\n",
    "        self,\n",
    "        config_filepath = CONFIG_FILE_PATH,\n",
    "        params_filepath = PARAMS_FILE_PATH):\n",
    "\n",
    "        self.config = read_yaml(config_filepath)\n",
    "        self.params = read_yaml(params_filepath)\n",
    "\n",
    "        create_directories([self.config.artifacts_root])\n",
    "\n",
    "    \n",
    "    def get_data_transform_config(self) -> DatatransformationConfig:\n",
    "        config = self.config.data_transformation\n",
    "\n",
    "        create_directories([config.root_dir])\n",
    "\n",
    "        data_transformation_config = DatatransformationConfig(\n",
    "            root_dir=config.root_dir,\n",
    "            local_data_file=config.local_data_file,\n",
    "            transformed_data_file=config.transformed_data_file \n",
    "        )\n",
    "\n",
    "        return data_transformation_config"
   ]
  },
  {
   "cell_type": "code",
   "execution_count": 21,
   "metadata": {},
   "outputs": [],
   "source": [
    "\n",
    "class DataTransform_load:\n",
    "    def __init__(self, config: DatatransformationConfig ):\n",
    "        self.config = config\n",
    "\n",
    "    \n",
    "    def transform_file(self):\n",
    "        \n",
    "        if  os.path.exists(self.config.local_data_file):\n",
    "            self.data = pd.read_csv(self.config.local_data_file)\n",
    "            self.df = self.data[['filename','xmin', 'ymin', 'xmax','ymax', 'class']]\n",
    "            self.df['class'] = self.df['class'].map({'Sickle': 1, 'Normal': 2,'Target': 3, 'Other': 4, 'Crystal': 5 })\n",
    "            self.unique_imgs = self.df['filename'].unique()\n",
    "            from sklearn.model_selection import train_test_split\n",
    "            self.train_inds, self.val_inds = train_test_split(range(self.unique_imgs.shape[0]), test_size = 0.2)\n",
    "    \n",
    "            #self.save_file(self.config.transformed_data_file, self.df)\n",
    "            return self.df, self.unique_imgs, self.train_inds, self.val_inds\n",
    "            #return self.unique_imgs\n",
    "            \n",
    "    def get_cust_data(self):\n",
    "        df, img, train_idx, val_idx = self.transform_file()\n",
    "        self.train_dl = DataLoader(CustDat(df, img, train_idx),\n",
    "                              batch_size=1,\n",
    "                              shuffle=True,\n",
    "                              collate_fn = custom_collate,\n",
    "                              pin_memory = False)\n",
    "        \n",
    "        self.val_dl = DataLoader(CustDat(df, img, val_idx),\n",
    "                              batch_size=1,\n",
    "                              shuffle=True,\n",
    "                              collate_fn = custom_collate,\n",
    "                              pin_memory = False)\n",
    "        self.save_file(self.config.transformed_data_file, self.train_dl, 'train_loder')\n",
    "        self.save_file(self.config.transformed_data_file, self.val_dl, 'val_loader')\n",
    "\n",
    "            \n",
    "    \n",
    "\n",
    "    def save_file(self, path, train_dl, file_name):\n",
    "        print(file_name)\n",
    "        path_trn = os.path.join(path, file_name)\n",
    "        torch.save(train_dl, path_trn+\".pt\")\n",
    "        \n"
   ]
  },
  {
   "cell_type": "code",
   "execution_count": 22,
   "metadata": {},
   "outputs": [
    {
     "name": "stdout",
     "output_type": "stream",
     "text": [
      "[2023-05-06 17:01:49,001: INFO: comman: yaml file: config\\config.yaml loaded successfully]\n",
      "[2023-05-06 17:01:49,006: INFO: comman: yaml file: params.yaml loaded successfully]\n",
      "[2023-05-06 17:01:49,008: INFO: comman: created directory at: artifacts]\n",
      "[2023-05-06 17:01:49,010: INFO: comman: created directory at: artifacts/transformed_data]\n",
      "train_loder\n",
      "val_loader\n"
     ]
    },
    {
     "name": "stderr",
     "output_type": "stream",
     "text": [
      "C:\\Users\\anil\\AppData\\Local\\Temp\\ipykernel_11012\\591461073.py:11: SettingWithCopyWarning: \n",
      "A value is trying to be set on a copy of a slice from a DataFrame.\n",
      "Try using .loc[row_indexer,col_indexer] = value instead\n",
      "\n",
      "See the caveats in the documentation: https://pandas.pydata.org/pandas-docs/stable/user_guide/indexing.html#returning-a-view-versus-a-copy\n",
      "  self.df['class'] = self.df['class'].map({'Sickle': 1, 'Normal': 2,'Target': 3, 'Other': 4, 'Crystal': 5 })\n"
     ]
    }
   ],
   "source": [
    "config = ConfigurationManager()\n",
    "prepare_data_config = config.get_data_transform_config()\n",
    "prepare_base = DataTransform_load(config=prepare_data_config)\n",
    "prepare_base.get_cust_data()\n"
   ]
  },
  {
   "cell_type": "code",
   "execution_count": null,
   "metadata": {},
   "outputs": [],
   "source": []
  }
 ],
 "metadata": {
  "kernelspec": {
   "display_name": "fasterrcnn",
   "language": "python",
   "name": "python3"
  },
  "language_info": {
   "codemirror_mode": {
    "name": "ipython",
    "version": 3
   },
   "file_extension": ".py",
   "mimetype": "text/x-python",
   "name": "python",
   "nbconvert_exporter": "python",
   "pygments_lexer": "ipython3",
   "version": "3.8.16"
  },
  "orig_nbformat": 4
 },
 "nbformat": 4,
 "nbformat_minor": 2
}
